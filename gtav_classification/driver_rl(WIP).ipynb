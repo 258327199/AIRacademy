{
 "cells": [
  {
   "cell_type": "code",
   "execution_count": null,
   "metadata": {
    "collapsed": true
   },
   "outputs": [],
   "source": [
    "from deepgtav.messages import Start, Stop, Scenario, Commands, frame2numpy\n",
    "from deepgtav.client import Client\n",
    "\n",
    "import argparse\n",
    "import time\n",
    "import cv2"
   ]
  },
  {
   "cell_type": "code",
   "execution_count": null,
   "metadata": {
    "collapsed": true
   },
   "outputs": [],
   "source": [
    "from __future__ import division, print_function\n",
    "\n",
    "import os, json\n",
    "from glob import glob\n",
    "import numpy as np\n",
    "from scipy import misc, ndimage\n",
    "from scipy.ndimage.interpolation import zoom\n",
    "\n",
    "import keras\n",
    "from keras.callbacks import ModelCheckpoint\n",
    "from keras import backend as K\n",
    "from keras.layers.normalization import BatchNormalization\n",
    "from keras.models import Sequential, load_model,  Model\n",
    "from keras.layers.core import Flatten, Dense, Dropout, Lambda\n",
    "from keras.layers.convolutional import Conv2D, MaxPooling2D, ZeroPadding2D\n",
    "from keras.layers.pooling import GlobalAveragePooling2D\n",
    "from keras.optimizers import Adam, SGD\n",
    "from keras.preprocessing import image\n",
    "from keras.applications import VGG16\n",
    "from keras.layers import Input, Lambda, Cropping2D, Activation, ELU\n",
    "from keras.layers.merge import add, concatenate\n",
    "from keras.models import model_from_json\n",
    "\n",
    "%matplotlib inline"
   ]
  },
  {
   "cell_type": "code",
   "execution_count": null,
   "metadata": {
    "collapsed": true
   },
   "outputs": [],
   "source": [
    "results_path = 'D:/ML_DATA/wheelai/gtav/results/'"
   ]
  },
  {
   "cell_type": "code",
   "execution_count": null,
   "metadata": {
    "collapsed": true
   },
   "outputs": [],
   "source": [
    "gamma = 0.975\n",
    "epsilon = 1.0\n",
    "e_min = 0.01\n",
    "e_decay = 0.99\n",
    "experience = deque(maxlen=50000)\n",
    "min_experience = 1000\n",
    "target_update_freq = 10\n",
    "state_size = (160, 320, 3)\n",
    "action_size = (3)"
   ]
  },
  {
   "cell_type": "code",
   "execution_count": null,
   "metadata": {
    "collapsed": true
   },
   "outputs": [],
   "source": [
    "def add_to_experience(state, action, reward, next_state):\n",
    "    '''\n",
    "    Add S,A,R,Sn to expereince\n",
    "    '''\n",
    "    global experience\n",
    "    experience.append((state, action, reward, next_state))\n",
    "    \n",
    "\n",
    "def experience_replay(batch_size, model, target_model):\n",
    "    \n",
    "    global experience, gamma, state_size, action_size\n",
    "    \n",
    "    batch_size = min(batch_size, len(experience))\n",
    "    minibatch = random.sample(experience, batch_size)\n",
    "    \n",
    "    X = np.zeros((batch_size, state_size))\n",
    "    y = np.zeros((batch_size, action_size))\n",
    "    \n",
    "    for i in range(batch_size):\n",
    "        \n",
    "        state, action, reward, next_state = minibatch[i]\n",
    "        Q_target = model.predict(state)[0]\n",
    "        act = np.argmax(model.predict(next_state)[0])\n",
    "        target = target_model.predict(next_state)[0]\n",
    "        # update the target model\n",
    "        Q_target[action] = reward + gamma * target[act]\n",
    "        #Q_target[action] = reward + gamma * np.amax(target_model.predict(next_state)[0]) \n",
    "        X[i], y[i] = state, Q_target\n",
    "    model.fit(X, y, batch_size=batch_size, epochs=1, verbose=0) \n",
    "    "
   ]
  },
  {
   "cell_type": "code",
   "execution_count": null,
   "metadata": {
    "collapsed": true
   },
   "outputs": [],
   "source": [
    "from utils import *\n",
    "# add time for key to keep pressed\n",
    "t_time = 0.11\n",
    "\n",
    "def straight():\n",
    "    PressKey(W)\n",
    "    ReleaseKey(A)\n",
    "    ReleaseKey(D)\n",
    "    \n",
    "def left():\n",
    "    PressKey(W)\n",
    "    PressKey(A)\n",
    "    ReleaseKey(D)\n",
    "    time.sleep(t_time)\n",
    "    ReleaseKey(A)\n",
    "    #ReleaseKey(W)\n",
    "\n",
    "def right():\n",
    "    PressKey(W)\n",
    "    PressKey(D)\n",
    "    ReleaseKey(A)\n",
    "    time.sleep(t_time)\n",
    "    ReleaseKey(D)\n",
    "    #ReleaseKey(W)\n",
    "    \n",
    "def take_action(action):\n",
    "    if max_index == 1:\n",
    "        left()\n",
    "    elif max_index == 2:\n",
    "        right()\n",
    "    else:\n",
    "        straight()"
   ]
  },
  {
   "cell_type": "code",
   "execution_count": null,
   "metadata": {
    "collapsed": true
   },
   "outputs": [],
   "source": [
    "def get_model(model, weights):\n",
    "    \n",
    "    model_path = results_path + model\n",
    "    weights = results_path + weights\n",
    "    # load model\n",
    "    json_file = open(model_path, 'r')\n",
    "    model_json = json_file.read()\n",
    "    json_file.close()\n",
    "    model = model_from_json(model_json)\n",
    "    # load weights into new model\n",
    "    model.load_weights(weights)\n",
    "    print(\"Loaded model from disk\")\n",
    "    # compile model\n",
    "    model.compile(optimizer='adam',loss='mse')\n",
    "    return model"
   ]
  },
  {
   "cell_type": "code",
   "execution_count": null,
   "metadata": {
    "collapsed": true
   },
   "outputs": [],
   "source": [
    "model = get_model('vgg.json', 'vgg_ft.h5')\n",
    "target_model = get_model('vgg.json', 'vgg_ft.h5')"
   ]
  },
  {
   "cell_type": "code",
   "execution_count": null,
   "metadata": {
    "collapsed": true
   },
   "outputs": [],
   "source": [
    "def predict(img):\n",
    "    x = np.expand_dims(x, axis=0)\n",
    "    return np.argmax(model.predict(x, batch_size=1,verbose=0)[0])"
   ]
  },
  {
   "cell_type": "code",
   "execution_count": null,
   "metadata": {
    "collapsed": true
   },
   "outputs": [],
   "source": [
    "client = Client(ip='localhost', port=8000)\n",
    "\n",
    "# We set the scenario to be in manual driving, and everything else random (time, weather and location). \n",
    "# See deepgtav/messages.py to see what options are supported\n",
    "scenario = Scenario(drivingMode=-1) #manual driving\n",
    "\n",
    "# Send the Start request to DeepGTAV. Dataset is set as default, we only receive frames at 10Hz (320, 160)\n",
    "client.sendMessage(Start(scenario=scenario))"
   ]
  },
  {
   "cell_type": "code",
   "execution_count": null,
   "metadata": {
    "collapsed": true
   },
   "outputs": [],
   "source": [
    "stoptime = time.time() + 80*3600\n",
    "while time.time() < stoptime:\n",
    "        try:\n",
    "            # We receive a message as a Python dictionary\n",
    "            message = client.recvMessage()\n",
    "\n",
    "            # The frame is a numpy array that can we pass through a CNN for example\n",
    "            state = frame2numpy(message['frame'], (320,160))\n",
    "            action = predict(state)\n",
    "            \n",
    "            take_Action(action)\n",
    "            \n",
    "            message = client.recvMessage()\n",
    "\n",
    "            next_state = frame2numpy(message['frame'], (320,160))\n",
    "            reward = message['reward']\n",
    "            \n",
    "            if len(experience) < 100:\n",
    "                add_to_experience(state, action, reward, next_state, done)\n",
    "            else:\n",
    "                add_to_experience(state, action, reward, next_state, done)\n",
    "                if episode % target_update_freq == 0:\n",
    "                    # copy weights from model to target_model\n",
    "                    target_model.set_weights(model.get_weights())\n",
    "                experience_replay(32, model, target_model)\n",
    "                \n",
    "            state = next_state\n",
    "            \n",
    "        except KeyboardInterrupt:\n",
    "            break\n",
    "    \n",
    "# We tell DeepGTAV to stop\n",
    "client.sendMessage(Stop())\n",
    "print('stopped')\n",
    "client.close()\n",
    "print('disconnected')"
   ]
  },
  {
   "cell_type": "code",
   "execution_count": null,
   "metadata": {
    "collapsed": true
   },
   "outputs": [],
   "source": []
  }
 ],
 "metadata": {
  "kernelspec": {
   "display_name": "Python 3",
   "language": "python",
   "name": "python3"
  },
  "language_info": {
   "codemirror_mode": {
    "name": "ipython",
    "version": 3
   },
   "file_extension": ".py",
   "mimetype": "text/x-python",
   "name": "python",
   "nbconvert_exporter": "python",
   "pygments_lexer": "ipython3",
   "version": "3.5.2"
  },
  "widgets": {
   "state": {},
   "version": "1.1.2"
  }
 },
 "nbformat": 4,
 "nbformat_minor": 2
}
