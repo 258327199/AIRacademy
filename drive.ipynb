{
 "cells": [
  {
   "cell_type": "code",
   "execution_count": 7,
   "metadata": {},
   "outputs": [],
   "source": [
    "from __future__ import division, print_function\n",
    "\n",
    "import os, json\n",
    "from glob import glob\n",
    "import numpy as np\n",
    "from scipy import misc, ndimage\n",
    "from scipy.ndimage.interpolation import zoom\n",
    "\n",
    "import keras\n",
    "from keras.callbacks import ModelCheckpoint\n",
    "from keras import backend as K\n",
    "from keras.layers.normalization import BatchNormalization\n",
    "from keras.models import Sequential, load_model,  Model\n",
    "from keras.layers.core import Flatten, Dense, Dropout, Lambda\n",
    "from keras.layers.convolutional import Conv2D, MaxPooling2D, ZeroPadding2D\n",
    "from keras.layers.pooling import GlobalAveragePooling2D\n",
    "from keras.optimizers import Adam, SGD\n",
    "from keras.preprocessing import image\n",
    "from keras.applications import VGG16\n",
    "from keras.layers import Lambda, Cropping2D, Activation, ELU\n",
    "from keras.models import model_from_json\n",
    "\n",
    "%matplotlib inline"
   ]
  },
  {
   "cell_type": "code",
   "execution_count": 2,
   "metadata": {
    "collapsed": true
   },
   "outputs": [],
   "source": [
    "from directkeys import PressKey,ReleaseKey, W, A, S, D\n",
    "from utils import *"
   ]
  },
  {
   "cell_type": "code",
   "execution_count": 19,
   "metadata": {
    "collapsed": true
   },
   "outputs": [],
   "source": [
    "t_time = 0.11\n",
    "\n",
    "def straight():\n",
    "##    if random.randrange(4) == 2:\n",
    "##        ReleaseKey(W)\n",
    "##    else:\n",
    "    PressKey(W)\n",
    "    ReleaseKey(A)\n",
    "    ReleaseKey(D)\n",
    "    \n",
    "def left():\n",
    "    PressKey(W)\n",
    "    PressKey(A)\n",
    "    #ReleaseKey(W)\n",
    "    ReleaseKey(D)\n",
    "    #ReleaseKey(A)\n",
    "    time.sleep(t_time)\n",
    "    ReleaseKey(A)\n",
    "    #ReleaseKey(W)\n",
    "\n",
    "def right():\n",
    "    PressKey(W)\n",
    "    PressKey(D)\n",
    "    ReleaseKey(A)\n",
    "    #ReleaseKey(W)\n",
    "    #ReleaseKey(D)\n",
    "    time.sleep(t_time)\n",
    "    ReleaseKey(D)\n",
    "    #ReleaseKey(W)"
   ]
  },
  {
   "cell_type": "code",
   "execution_count": 4,
   "metadata": {
    "collapsed": true
   },
   "outputs": [],
   "source": [
    "results_path = 'D:/ML_DATA/wheelai/gtaV/results/'"
   ]
  },
  {
   "cell_type": "code",
   "execution_count": 5,
   "metadata": {
    "collapsed": true
   },
   "outputs": [],
   "source": [
    "#import h5py\n",
    "#f = h5py.File(model_path+'vgg_ft.h5', 'r+')\n",
    "#del f['optimizer_weights']\n",
    "#f.close()"
   ]
  },
  {
   "cell_type": "code",
   "execution_count": null,
   "metadata": {
    "collapsed": true
   },
   "outputs": [],
   "source": [
    "filter_size = 3\n",
    "pool_size = (2,2)\n",
    "\n",
    "\n",
    "def get_model():\n",
    "    model = Sequential()\n",
    "    model.add(Cropping2D(cropping=((70,0), (0,0)), input_shape=(160, 320, 3)))\n",
    "    model.add(Lambda(lambda x: x/255.-0.5))\n",
    "    model.add(Conv2D(3,1,1,\n",
    "                        border_mode='valid',\n",
    "                        name='conv0', init='he_normal'))\n",
    "    model.add(Conv2D(32,filter_size,filter_size,\n",
    "                        border_mode='valid',\n",
    "                        name='conv1', init='he_normal'))\n",
    "    model.add(ELU())\n",
    "    model.add(Conv2D(32,filter_size,filter_size,\n",
    "                        border_mode='valid',\n",
    "                        name='conv2', init='he_normal'))\n",
    "    model.add(ELU())\n",
    "    model.add(MaxPooling2D(pool_size=pool_size))\n",
    "    model.add(Dropout(0.5))\n",
    "    model.add(Conv2D(64,filter_size,filter_size,\n",
    "                        border_mode='valid',\n",
    "                        name='conv3', init='he_normal'))\n",
    "    model.add(ELU())\n",
    "\n",
    "    model.add(Conv2D(64,filter_size,filter_size,\n",
    "                        border_mode='valid',\n",
    "                        name='conv4', init='he_normal'))\n",
    "    model.add(ELU())\n",
    "    model.add(MaxPooling2D(pool_size=pool_size))\n",
    "    model.add(Dropout(0.5))\n",
    "    model.add(Conv2D(128,filter_size,filter_size,\n",
    "                        border_mode='valid',\n",
    "                        name='conv5', init='he_normal'))\n",
    "    model.add(ELU())\n",
    "    model.add(Conv2D(128,filter_size,filter_size,\n",
    "                        border_mode='valid',\n",
    "                        name='conv6', init='he_normal'))\n",
    "    model.add(ELU())\n",
    "    model.add(MaxPooling2D(pool_size=pool_size))\n",
    "    model.add(Dropout(0.5))\n",
    "    model.add(Flatten())\n",
    "    model.add(Dense(512,name='hidden1', init='he_normal'))\n",
    "    model.add(ELU())\n",
    "    model.add(Dropout(0.5))\n",
    "    model.add(Dense(64,name='hidden2', init='he_normal'))\n",
    "    model.add(ELU())\n",
    "    model.add(Dropout(0.5))\n",
    "    model.add(Dense(16,name='hidden3',init='he_normal'))\n",
    "    model.add(ELU())\n",
    "    model.add(Dropout(0.5))\n",
    "    model.add(Dense(3, name='output', init='he_normal'))\n",
    "    return model"
   ]
  },
  {
   "cell_type": "code",
   "execution_count": null,
   "metadata": {},
   "outputs": [],
   "source": [
    "model = get_model()\n",
    "model.load_weights(results_path+'nvidia_aug.h5')\n",
    "adam = Adam(lr=1e-4, beta_1=0.9, beta_2=0.999, epsilon=1e-08, decay=0.0)\n",
    "model.compile(optimizer=adam,loss='categorical_crossentropy')"
   ]
  },
  {
   "cell_type": "code",
   "execution_count": 8,
   "metadata": {},
   "outputs": [
    {
     "name": "stdout",
     "output_type": "stream",
     "text": [
      "Loaded model from disk\n"
     ]
    }
   ],
   "source": [
    "model_path = results_path+'vgg_ft.json'\n",
    "filepath2 = results_path+'vgg_ft.h5'\n",
    "\n",
    "json_file = open(model_path, 'r')\n",
    "vgg_model_json = json_file.read()\n",
    "json_file.close()\n",
    "vgg_model = model_from_json(vgg_model_json)\n",
    "# load weights into new model\n",
    "vgg_model.load_weights(filepath2)\n",
    "print(\"Loaded model from disk\")"
   ]
  },
  {
   "cell_type": "code",
   "execution_count": null,
   "metadata": {
    "collapsed": true
   },
   "outputs": [],
   "source": [
    "#vgg_model = load_model(model_path+'vgg_ft.h5')"
   ]
  },
  {
   "cell_type": "code",
   "execution_count": 9,
   "metadata": {
    "collapsed": true
   },
   "outputs": [],
   "source": [
    "vgg_model.compile(loss='categorical_crossentropy', optimizer=Adam(lr=2e-5), metrics=['accuracy'])"
   ]
  },
  {
   "cell_type": "markdown",
   "metadata": {
    "collapsed": true
   },
   "source": [
    "#image = grab_screen(region=(10, 450, 1500, 300))\n",
    "path00 = 'C:/ML_DATA/wheelai/kerakart/valid/right/right1.jpg'\n",
    "img = cv2.imread(path00)\n",
    "img = cv2.resize(img,(80,160))\n",
    "x = image.img_to_array(img)"
   ]
  },
  {
   "cell_type": "code",
   "execution_count": 16,
   "metadata": {
    "collapsed": true
   },
   "outputs": [],
   "source": [
    "def main():\n",
    "    count_down(5)\n",
    "    paused = False\n",
    "    while(True):\n",
    "\n",
    "        if not paused:\n",
    "            \n",
    "            img = grab_screen(region=(0, 100, 1280, 640))\n",
    "            img = cv2.cvtColor(img, cv2.COLOR_BGR2RGB)\n",
    "            img = cv2.resize(img,(640, 470))\n",
    "            x = image.img_to_array(img)\n",
    "            x = np.expand_dims(x, axis=0)\n",
    "            action = vgg_model.predict(x, batch_size=1,verbose=0)[0]\n",
    "            \n",
    "            print(action)\n",
    "            max_value = max(action)\n",
    "            max_index = action.index(max_value)\n",
    "            \n",
    "\n",
    "            if max_index == 1:\n",
    "                left()\n",
    "            elif max_index == 2:\n",
    "                right()\n",
    "            else:\n",
    "                straight()\n",
    "\n",
    "        keys = key_check()\n",
    "        if 'T' in keys:\n",
    "            if paused:\n",
    "                paused = False\n",
    "                print('unpaused!')\n",
    "                time.sleep(1)\n",
    "            else:\n",
    "                print('Pausing!')\n",
    "                paused = True\n",
    "                ReleaseKey(A)\n",
    "                ReleaseKey(W)\n",
    "                ReleaseKey(D)\n",
    "                time.sleep(1)\n"
   ]
  },
  {
   "cell_type": "code",
   "execution_count": null,
   "metadata": {
    "scrolled": true
   },
   "outputs": [
    {
     "name": "stdout",
     "output_type": "stream",
     "text": [
      "5\n",
      "4\n",
      "3\n",
      "2\n",
      "1\n"
     ]
    }
   ],
   "source": [
    "main()"
   ]
  },
  {
   "cell_type": "code",
   "execution_count": null,
   "metadata": {
    "collapsed": true
   },
   "outputs": [],
   "source": []
  },
  {
   "cell_type": "code",
   "execution_count": null,
   "metadata": {
    "collapsed": true
   },
   "outputs": [],
   "source": []
  },
  {
   "cell_type": "code",
   "execution_count": null,
   "metadata": {
    "collapsed": true
   },
   "outputs": [],
   "source": []
  }
 ],
 "metadata": {
  "kernelspec": {
   "display_name": "Python 3",
   "language": "python",
   "name": "python3"
  },
  "language_info": {
   "codemirror_mode": {
    "name": "ipython",
    "version": 3
   },
   "file_extension": ".py",
   "mimetype": "text/x-python",
   "name": "python",
   "nbconvert_exporter": "python",
   "pygments_lexer": "ipython3",
   "version": "3.5.2"
  },
  "widgets": {
   "state": {},
   "version": "1.1.2"
  }
 },
 "nbformat": 4,
 "nbformat_minor": 1
}
