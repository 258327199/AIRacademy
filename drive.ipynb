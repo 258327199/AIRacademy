{
 "cells": [
  {
   "cell_type": "code",
   "execution_count": null,
   "metadata": {
    "collapsed": false
   },
   "outputs": [],
   "source": [
    "#from utils import grab_screen, key_check\n",
    "import cv2\n",
    "import time\n",
    "from __future__ import division, print_function\n",
    "\n",
    "import os, json\n",
    "from glob import glob\n",
    "import numpy as np\n",
    "from scipy import misc, ndimage\n",
    "from scipy.ndimage.interpolation import zoom\n",
    "\n",
    "import keras\n",
    "from keras.callbacks import ModelCheckpoint\n",
    "from keras import backend as K\n",
    "from keras.layers.normalization import BatchNormalization\n",
    "from keras.models import Sequential, load_model\n",
    "from keras.layers.core import Flatten, Dense, Dropout, Lambda\n",
    "from keras.layers.convolutional import Conv2D, MaxPooling2D, ZeroPadding2D\n",
    "from keras.layers.pooling import GlobalAveragePooling2D\n",
    "from keras.optimizers import Adam\n",
    "from keras.preprocessing import image\n",
    "from keras.applications import VGG16\n",
    "\n",
    "%matplotlib inline"
   ]
  },
  {
   "cell_type": "code",
   "execution_count": null,
   "metadata": {
    "collapsed": true
   },
   "outputs": [],
   "source": []
  },
  {
   "cell_type": "code",
   "execution_count": null,
   "metadata": {
    "collapsed": false
   },
   "outputs": [],
   "source": [
    "model_path = '/media/shreyas/OS/ML_DATA/wheelai/kerakart/results/'\n",
    "model = load_model(model_path+'vgg_top.h5')"
   ]
  },
  {
   "cell_type": "code",
   "execution_count": null,
   "metadata": {
    "collapsed": false
   },
   "outputs": [],
   "source": [
    "model.compile(loss='categorical_crossentropy', optmizer='adam', metrics=['accuracy'])"
   ]
  },
  {
   "cell_type": "code",
   "execution_count": null,
   "metadata": {
    "collapsed": true
   },
   "outputs": [],
   "source": []
  },
  {
   "cell_type": "code",
   "execution_count": null,
   "metadata": {
    "collapsed": true
   },
   "outputs": [],
   "source": [
    "def main():\n",
    "    count_down(10)\n",
    "    paused = False\n",
    "    while(True):\n",
    "\n",
    "        if not paused:\n",
    "            \n",
    "            image = grab_screen(region=(10, 450, 1500, 300))\n",
    "            image = cv2.resize(screen, (160,80))\n",
    "            image /= 255.0\n",
    "            pred = model.predict(image, batch_size=1,verbose=0)\n",
    "            \n",
    "            print(pred)\n",
    "            \n",
    "            turn_thresh = .75\n",
    "            fwd_thresh = 0.70\n",
    "\n",
    "            #if action[1] > fwd_thresh:\n",
    "            #    straight()\n",
    "            #elif p[0] > turn_thresh:\n",
    "            #    left()\n",
    "            #elif prediction[2] > turn_thresh:\n",
    "            #    right()\n",
    "            #else:\n",
    "            #    straight()\n",
    "\n",
    "        keys = key_check()\n",
    "        if 'T' in keys:\n",
    "            if paused:\n",
    "                paused = False\n",
    "                print('unpaused!')\n",
    "                time.sleep(1)\n",
    "            else:\n",
    "                print('Pausing!')\n",
    "                paused = True\n",
    "                time.sleep(1)\n"
   ]
  }
 ],
 "metadata": {
  "kernelspec": {
   "display_name": "Python [conda env:wheelai]",
   "language": "python",
   "name": "conda-env-wheelai-py"
  },
  "language_info": {
   "codemirror_mode": {
    "name": "ipython",
    "version": 3
   },
   "file_extension": ".py",
   "mimetype": "text/x-python",
   "name": "python",
   "nbconvert_exporter": "python",
   "pygments_lexer": "ipython3",
   "version": "3.5.2"
  }
 },
 "nbformat": 4,
 "nbformat_minor": 1
}
