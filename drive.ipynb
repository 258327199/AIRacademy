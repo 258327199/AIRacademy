{
 "cells": [
  {
   "cell_type": "code",
   "execution_count": 1,
   "metadata": {},
   "outputs": [
    {
     "name": "stderr",
     "output_type": "stream",
     "text": [
      "Using TensorFlow backend.\n"
     ]
    }
   ],
   "source": [
    "#from utils import grab_screen, key_check\n",
    "import cv2\n",
    "import time\n",
    "from __future__ import division, print_function\n",
    "\n",
    "import os, json\n",
    "from glob import glob\n",
    "import numpy as np\n",
    "from scipy import misc, ndimage\n",
    "from scipy.ndimage.interpolation import zoom\n",
    "\n",
    "import keras\n",
    "from keras.callbacks import ModelCheckpoint\n",
    "from keras import backend as K\n",
    "from keras.layers.normalization import BatchNormalization\n",
    "from keras.models import Sequential, load_model, Model\n",
    "from keras.layers.core import Flatten, Dense, Dropout, Lambda\n",
    "from keras.layers.convolutional import Conv2D, MaxPooling2D, ZeroPadding2D\n",
    "from keras.layers.pooling import GlobalAveragePooling2D\n",
    "from keras.optimizers import Adam, SGD\n",
    "from keras.preprocessing import image\n",
    "from keras.applications import VGG16\n",
    "\n",
    "import matplotlib.pyplot as plt\n",
    "import matplotlib.image as mpimg\n",
    "%matplotlib inline"
   ]
  },
  {
   "cell_type": "code",
   "execution_count": 2,
   "metadata": {
    "collapsed": true
   },
   "outputs": [],
   "source": [
    "from directkeys import PressKey,ReleaseKey, W, A, S, D\n",
    "from utils import *"
   ]
  },
  {
   "cell_type": "code",
   "execution_count": 3,
   "metadata": {
    "collapsed": true
   },
   "outputs": [],
   "source": [
    "t_time = 0.11\n",
    "\n",
    "def straight():\n",
    "##    if random.randrange(4) == 2:\n",
    "##        ReleaseKey(W)\n",
    "##    else:\n",
    "    PressKey(W)\n",
    "    ReleaseKey(A)\n",
    "    ReleaseKey(D)\n",
    "    \n",
    "def left():\n",
    "    PressKey(W)\n",
    "    PressKey(A)\n",
    "    #ReleaseKey(W)\n",
    "    ReleaseKey(D)\n",
    "    #ReleaseKey(A)\n",
    "    time.sleep(t_time)\n",
    "    ReleaseKey(A)\n",
    "    #ReleaseKey(W)\n",
    "\n",
    "def right():\n",
    "    PressKey(W)\n",
    "    PressKey(D)\n",
    "    ReleaseKey(A)\n",
    "    #ReleaseKey(W)\n",
    "    #ReleaseKey(D)\n",
    "    time.sleep(t_time)\n",
    "    ReleaseKey(D)\n",
    "    #ReleaseKey(W)"
   ]
  },
  {
   "cell_type": "code",
   "execution_count": 4,
   "metadata": {
    "collapsed": true
   },
   "outputs": [],
   "source": [
    "model_path = 'D:/ML_DATA/wheelai/gtaV/results/'\n"
   ]
  },
  {
   "cell_type": "code",
   "execution_count": 6,
   "metadata": {
    "collapsed": true
   },
   "outputs": [],
   "source": [
    "def vgg_conv():\n",
    "    model = VGG16(include_top=False, weights='imagenet', input_shape=(160,80,3))\n",
    "    #remove the last convolutional block\n",
    "    [model.layers.pop() for _ in range(4)]\n",
    "    return model\n",
    "\n",
    "\n",
    "def top_layer(input_shape):\n",
    "    model = Sequential()\n",
    "    model.add(Conv2D(512, (3,3), padding='same', activation='relu', input_shape=input_shape))\n",
    "    model.add(Dropout(0.1))\n",
    "    model.add(Conv2D(512, (3,3), padding='same', activation='relu'))\n",
    "    model.add(Dropout(0.1))\n",
    "    model.add(Conv2D(512, (3,3), padding='same', activation='relu'))\n",
    "    model.add(Dropout(0.2))\n",
    "    #model.add(MaxPooling2D(2,2))\n",
    "    model.add(Flatten())\n",
    "    model.add(Dense(256, activation='elu'))\n",
    "    model.add(Dropout(0.3))\n",
    "    model.add(Dense(256, activation='elu'))\n",
    "    model.add(Dropout(0.5))\n",
    "    model.add(Dense(3, activation='softmax'))\n",
    "    \n",
    "    return model "
   ]
  },
  {
   "cell_type": "code",
   "execution_count": 7,
   "metadata": {},
   "outputs": [],
   "source": [
    "import h5py\n",
    "f = h5py.File(model_path+'vgg_ft.h5', 'r+')\n",
    "del f['optimizer_weights']\n",
    "f.close()"
   ]
  },
  {
   "cell_type": "code",
   "execution_count": 8,
   "metadata": {},
   "outputs": [],
   "source": [
    "vgg_model = load_model(model_path+'vgg_ft.h5')"
   ]
  },
  {
   "cell_type": "code",
   "execution_count": 9,
   "metadata": {
    "collapsed": true
   },
   "outputs": [],
   "source": [
    "vgg_model.compile(loss='categorical_crossentropy', optimizer=SGD(lr=2e-5, momentum=0.9), metrics=['accuracy'])"
   ]
  },
  {
   "cell_type": "markdown",
   "metadata": {
    "collapsed": true
   },
   "source": [
    "#image = grab_screen(region=(10, 450, 1500, 300))\n",
    "path00 = 'C:/ML_DATA/wheelai/kerakart/valid/right/right1.jpg'\n",
    "img = cv2.imread(path00)\n",
    "img = cv2.resize(img,(80,160))\n",
    "x = image.img_to_array(img)"
   ]
  },
  {
   "cell_type": "code",
   "execution_count": 10,
   "metadata": {
    "collapsed": true
   },
   "outputs": [],
   "source": [
    "def main():\n",
    "    count_down(5)\n",
    "    paused = False\n",
    "    while(True):\n",
    "\n",
    "        if not paused:\n",
    "            \n",
    "            img = grab_screen(region=(0, 80, 1280, 960))\n",
    "            img = cv2.cvtColor(img, cv2.COLOR_BGR2RGB)\n",
    "            img = cv2.resize(img,(224,224))\n",
    "            x = image.img_to_array(img)\n",
    "            x = np.expand_dims(x, axis=0)\n",
    "            action = vgg_model.predict(x, batch_size=1,verbose=0)[0]\n",
    "            \n",
    "            #print(action)\n",
    "            \n",
    "            turn_thresh = .75\n",
    "            fwd_thresh = 0.70\n",
    "\n",
    "            if action[1] > fwd_thresh:\n",
    "                straight()\n",
    "            elif action[0] > turn_thresh:\n",
    "                left()\n",
    "            elif action[2] > turn_thresh:\n",
    "                right()\n",
    "            else:\n",
    "                straight()\n",
    "\n",
    "        keys = key_check()\n",
    "        if 'T' in keys:\n",
    "            if paused:\n",
    "                paused = False\n",
    "                print('unpaused!')\n",
    "                time.sleep(1)\n",
    "            else:\n",
    "                print('Pausing!')\n",
    "                paused = True\n",
    "                ReleaseKey(A)\n",
    "                ReleaseKey(W)\n",
    "                ReleaseKey(D)\n",
    "                time.sleep(1)\n"
   ]
  },
  {
   "cell_type": "code",
   "execution_count": null,
   "metadata": {
    "scrolled": true
   },
   "outputs": [
    {
     "name": "stdout",
     "output_type": "stream",
     "text": [
      "5\n",
      "4\n",
      "3\n",
      "2\n",
      "1\n",
      "Pausing!\n",
      "unpaused!\n",
      "Pausing!\n",
      "unpaused!\n",
      "Pausing!\n",
      "unpaused!\n",
      "Pausing!\n",
      "unpaused!\n",
      "Pausing!\n",
      "unpaused!\n",
      "Pausing!\n",
      "unpaused!\n",
      "Pausing!\n",
      "unpaused!\n",
      "Pausing!\n",
      "unpaused!\n",
      "Pausing!\n",
      "unpaused!\n"
     ]
    }
   ],
   "source": [
    "main()"
   ]
  },
  {
   "cell_type": "code",
   "execution_count": null,
   "metadata": {
    "collapsed": true
   },
   "outputs": [],
   "source": []
  }
 ],
 "metadata": {
  "kernelspec": {
   "display_name": "Python 3",
   "language": "python",
   "name": "python3"
  },
  "language_info": {
   "codemirror_mode": {
    "name": "ipython",
    "version": 3
   },
   "file_extension": ".py",
   "mimetype": "text/x-python",
   "name": "python",
   "nbconvert_exporter": "python",
   "pygments_lexer": "ipython3",
   "version": "3.5.2"
  },
  "widgets": {
   "state": {},
   "version": "1.1.2"
  }
 },
 "nbformat": 4,
 "nbformat_minor": 1
}
