{
 "cells": [
  {
   "cell_type": "code",
   "execution_count": 7,
   "metadata": {
    "collapsed": true
   },
   "outputs": [],
   "source": [
    "d = '/media/shreyas/DATA/ML_DATA/wheelai/gtav/train/'\n",
    "#d = '/media/shreyas/DATA/ML_DATA/wheelai/gtav/sample/'\n",
    "data_path = d + 'dataset.pz'\n",
    "val_data = '/media/shreyas/DATA/ML_DATA/wheelai/gtav/valid/dataset.pz'\n",
    "\n",
    "x_trn_path = d + 'x_trn.bc'\n",
    "y_trn_path = d + 'y_trn.bc'\n",
    "\n",
    "s_crp_path = d + 's_crp.bc'\n",
    "x_crp_path = '/home/shreyas/Downloads/data/x_crp.bc'\n",
    "v_crp_path = '/home/shreyas/Downloads/data/v_crp.bc'\n",
    "\n",
    "x_val_path = '/media/shreyas/DATA/ML_DATA/wheelai/gtav/valid/x_val.bc'\n",
    "y_val_path = '/media/shreyas/DATA/ML_DATA/wheelai/gtav/valid/y_val.bc'\n"
   ]
  },
  {
   "cell_type": "code",
   "execution_count": 2,
   "metadata": {
    "collapsed": false
   },
   "outputs": [
    {
     "name": "stderr",
     "output_type": "stream",
     "text": [
      "Using TensorFlow backend.\n"
     ]
    }
   ],
   "source": [
    "from __future__ import division, print_function\n",
    "\n",
    "import os, json\n",
    "from glob import glob\n",
    "\n",
    "import numpy as np\n",
    "import pandas as pd\n",
    "\n",
    "from scipy import misc, ndimage\n",
    "from scipy.ndimage.interpolation import zoom\n",
    "\n",
    "import keras\n",
    "from keras.callbacks import ModelCheckpoint\n",
    "from keras import backend as K\n",
    "from keras.layers.normalization import BatchNormalization\n",
    "from keras.models import Sequential, load_model,  Model\n",
    "from keras.layers.core import Flatten, Dense, Dropout, Lambda\n",
    "from keras.layers.convolutional import Conv2D, MaxPooling2D, ZeroPadding2D\n",
    "from keras.layers.pooling import GlobalAveragePooling2D\n",
    "from keras.optimizers import Adam, SGD\n",
    "from keras.preprocessing import image\n",
    "from keras.applications import VGG16\n",
    "from keras.layers import Lambda, Cropping2D, Activation\n",
    "\n",
    "from matplotlib import pyplot as plt\n",
    "%matplotlib inline"
   ]
  },
  {
   "cell_type": "code",
   "execution_count": 3,
   "metadata": {
    "collapsed": true
   },
   "outputs": [],
   "source": [
    "import threading\n",
    "import bcolz"
   ]
  },
  {
   "cell_type": "code",
   "execution_count": 4,
   "metadata": {
    "collapsed": true
   },
   "outputs": [],
   "source": [
    "tl = threading.local()"
   ]
  },
  {
   "cell_type": "code",
   "execution_count": 26,
   "metadata": {
    "collapsed": false
   },
   "outputs": [],
   "source": [
    "tl.place = np.zeros((160,320,3), 'uint8')\n",
    "X_arr = bcolz.carray(np.empty((0, 160, 320, 3), 'float32'), \n",
    "                   chunklen=16, mode='w', rootdir=x_val_path)\n",
    "y_arr = bcolz.carray(np.empty((0, 3), 'float32'), \n",
    "                   chunklen=16, mode='w', rootdir=y_val_path)"
   ]
  },
  {
   "cell_type": "code",
   "execution_count": 27,
   "metadata": {
    "collapsed": false,
    "scrolled": false
   },
   "outputs": [],
   "source": [
    "import pickle\n",
    "import gzip\n",
    "from deepgtav.messages import Start, Stop, Dataset, frame2numpy\n",
    "\n",
    "with gzip.open(val_data, mode='rb', compresslevel=9) as f:\n",
    "    while True:\n",
    "            try:\n",
    "                data = pickle.load(f)\n",
    "                tl.place[:] = frame2numpy(data['frame'], (320, 160))\n",
    "                X_arr.append(tl.place)\n",
    "                y_arr.append([data['throttle'], data['brake'], data['steering']])\n",
    "            except EOFError:\n",
    "                break\n",
    "    X_arr.flush()\n",
    "    y_arr.flush()"
   ]
  },
  {
   "cell_type": "code",
   "execution_count": 9,
   "metadata": {
    "collapsed": false
   },
   "outputs": [
    {
     "data": {
      "text/plain": [
       "(18885, 160, 320, 3)"
      ]
     },
     "execution_count": 9,
     "metadata": {},
     "output_type": "execute_result"
    }
   ],
   "source": [
    "X_trn = bcolz.open(x_val_path)\n",
    "X_trn.shape"
   ]
  },
  {
   "cell_type": "code",
   "execution_count": 29,
   "metadata": {
    "collapsed": false
   },
   "outputs": [],
   "source": [
    "tl.img = np.zeros((80,320,3), 'uint8')\n",
    "X_crp = bcolz.carray(np.empty((0, 80, 320, 3), 'float32'), \n",
    "                   chunklen=16, mode='w', rootdir=v_crp_path)\n"
   ]
  },
  {
   "cell_type": "code",
   "execution_count": 30,
   "metadata": {
    "collapsed": false
   },
   "outputs": [],
   "source": [
    "def plot(img):\n",
    "    plt.imshow(img)\n",
    "    plt.show()\n",
    "    \n",
    "def crop_img(i):\n",
    "    return X_trn[i][80:,]\n",
    "\n",
    "def save_img(r):\n",
    "    tl.img[:] = r\n",
    "    X_crp.append(tl.img)"
   ]
  },
  {
   "cell_type": "code",
   "execution_count": 31,
   "metadata": {
    "collapsed": false
   },
   "outputs": [],
   "source": [
    "#from concurrent.futures import ThreadPoolExecutor\n",
    "#import multiprocessing\n",
    "\n",
    "#max_workers = multiprocessing.cpu_count()"
   ]
  },
  {
   "cell_type": "code",
   "execution_count": 32,
   "metadata": {
    "collapsed": false
   },
   "outputs": [],
   "source": [
    "#with ThreadPoolExecutor(max_workers=16) as exe:\n",
    "#        result = exe.map(crop_img, range(10000))\n",
    "#        for r in result: save_img(r)\n",
    "#X_crp.flush()"
   ]
  },
  {
   "cell_type": "code",
   "execution_count": 33,
   "metadata": {
    "collapsed": false,
    "scrolled": true
   },
   "outputs": [],
   "source": [
    "for i in range(X_trn.shape[0]):\n",
    "    tl.img[:] = crop_img(i)\n",
    "    X_crp.append(tl.img)\n",
    "X_crp.flush()"
   ]
  },
  {
   "cell_type": "code",
   "execution_count": 34,
   "metadata": {
    "collapsed": false
   },
   "outputs": [
    {
     "data": {
      "text/plain": [
       "(18885, 80, 320, 3)"
      ]
     },
     "execution_count": 34,
     "metadata": {},
     "output_type": "execute_result"
    }
   ],
   "source": [
    "#X_crp = bcolz.open(x_crp_path)\n",
    "X_crp.shape"
   ]
  },
  {
   "cell_type": "code",
   "execution_count": null,
   "metadata": {
    "collapsed": true
   },
   "outputs": [],
   "source": []
  }
 ],
 "metadata": {
  "kernelspec": {
   "display_name": "Python 3",
   "language": "python",
   "name": "python3"
  },
  "language_info": {
   "codemirror_mode": {
    "name": "ipython",
    "version": 3
   },
   "file_extension": ".py",
   "mimetype": "text/x-python",
   "name": "python",
   "nbconvert_exporter": "python",
   "pygments_lexer": "ipython3",
   "version": "3.5.2"
  }
 },
 "nbformat": 4,
 "nbformat_minor": 1
}
