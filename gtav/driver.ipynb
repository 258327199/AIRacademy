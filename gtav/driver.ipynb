{
 "cells": [
  {
   "cell_type": "code",
   "execution_count": null,
   "metadata": {
    "collapsed": true
   },
   "outputs": [],
   "source": [
    "from deepgtav.messages import Start, Stop, Scenario, Commands, frame2numpy\n",
    "from deepgtav.client import Client\n",
    "\n",
    "import argparse\n",
    "import time\n",
    "import cv2"
   ]
  },
  {
   "cell_type": "code",
   "execution_count": null,
   "metadata": {},
   "outputs": [],
   "source": [
    "from __future__ import division, print_function\n",
    "\n",
    "import os, json\n",
    "from glob import glob\n",
    "import numpy as np\n",
    "from scipy import misc, ndimage\n",
    "from scipy.ndimage.interpolation import zoom\n",
    "\n",
    "import keras\n",
    "from keras.callbacks import ModelCheckpoint\n",
    "from keras import backend as K\n",
    "from keras.layers.normalization import BatchNormalization\n",
    "from keras.models import Sequential, load_model,  Model\n",
    "from keras.layers.core import Flatten, Dense, Dropout, Lambda\n",
    "from keras.layers.convolutional import Conv2D, MaxPooling2D, ZeroPadding2D\n",
    "from keras.layers.pooling import GlobalAveragePooling2D\n",
    "from keras.optimizers import Adam, SGD\n",
    "from keras.preprocessing import image\n",
    "from keras.applications import VGG16\n",
    "from keras.layers import Input, Lambda, Cropping2D, Activation, ELU\n",
    "from keras.layers.merge import add, concatenate\n",
    "from keras.models import model_from_json\n",
    "\n",
    "%matplotlib inline"
   ]
  },
  {
   "cell_type": "code",
   "execution_count": null,
   "metadata": {
    "collapsed": true
   },
   "outputs": [],
   "source": [
    "results_path = 'D:/ML_DATA/wheelai/gtav/results/'"
   ]
  },
  {
   "cell_type": "code",
   "execution_count": null,
   "metadata": {
    "collapsed": true
   },
   "outputs": [],
   "source": [
    "def get_model(model, weights):\n",
    "    \n",
    "    model_path = results_path + model\n",
    "    weights = results_path + weights\n",
    "    # load model\n",
    "    json_file = open(model_path, 'r')\n",
    "    model_json = json_file.read()\n",
    "    json_file.close()\n",
    "    model = model_from_json(model_json)\n",
    "    # load weights into new model\n",
    "    model.load_weights(weights)\n",
    "    print(\"Loaded model from disk\")\n",
    "    # compile model\n",
    "    model.compile(optimizer='adam',loss='mse')\n",
    "    return model"
   ]
  },
  {
   "cell_type": "code",
   "execution_count": null,
   "metadata": {},
   "outputs": [],
   "source": [
    "model = get_model('commaai.json', 'commaai1.h5')"
   ]
  },
  {
   "cell_type": "code",
   "execution_count": null,
   "metadata": {},
   "outputs": [],
   "source": [
    "client = Client(ip='localhost', port=8000)\n",
    "\n",
    "# We set the scenario to be in manual driving, and everything else random (time, weather and location). \n",
    "# See deepgtav/messages.py to see what options are supported\n",
    "scenario = Scenario(drivingMode=-1) #manual driving\n",
    "\n",
    "# Send the Start request to DeepGTAV. Dataset is set as default, we only receive frames at 10Hz (320, 160)\n",
    "client.sendMessage(Start(scenario=scenario))"
   ]
  },
  {
   "cell_type": "code",
   "execution_count": null,
   "metadata": {
    "collapsed": true
   },
   "outputs": [],
   "source": []
  },
  {
   "cell_type": "code",
   "execution_count": null,
   "metadata": {},
   "outputs": [],
   "source": [
    "def predict(img):\n",
    "    \n",
    "    #x = image.img_to_array(img)\n",
    "    x = img[80:,:,:]\n",
    "    x = np.expand_dims(x, axis=0)\n",
    "    return model.predict(x, batch_size=1,verbose=0)[0].tolist()"
   ]
  },
  {
   "cell_type": "code",
   "execution_count": null,
   "metadata": {},
   "outputs": [],
   "source": [
    "stoptime = time.time() + 80*3600\n",
    "while time.time() < stoptime:\n",
    "        try:\n",
    "            # We receive a message as a Python dictionary\n",
    "            message = client.recvMessage()\t\n",
    "\n",
    "            # The frame is a numpy array that can we pass through a CNN for example\t\t\n",
    "            image = frame2numpy(message['frame'], (320,160))\n",
    "            commands = predict(image)\n",
    "            print (commands)\n",
    "            # We send the commands predicted by the agent back to DeepGTAV to control the vehicle\n",
    "            client.sendMessage(Commands(commands[0], commands[1], commands[2]))\n",
    "            #client.sendMessage(Commands(1, 0, 0))\n",
    "            #print('ok')\n",
    "        except KeyboardInterrupt:\n",
    "            break\n",
    "    \n",
    "    # We tell DeepGTAV to stop\n",
    "client.sendMessage(Stop())\n",
    "print('stopped')\n",
    "client.close()\n",
    "print('disconnected')"
   ]
  },
  {
   "cell_type": "code",
   "execution_count": null,
   "metadata": {
    "collapsed": true
   },
   "outputs": [],
   "source": []
  }
 ],
 "metadata": {
  "kernelspec": {
   "display_name": "Python 3",
   "language": "python",
   "name": "python3"
  },
  "language_info": {
   "codemirror_mode": {
    "name": "ipython",
    "version": 3
   },
   "file_extension": ".py",
   "mimetype": "text/x-python",
   "name": "python",
   "nbconvert_exporter": "python",
   "pygments_lexer": "ipython3",
   "version": "3.5.2"
  },
  "widgets": {
   "state": {},
   "version": "1.1.2"
  }
 },
 "nbformat": 4,
 "nbformat_minor": 2
}
