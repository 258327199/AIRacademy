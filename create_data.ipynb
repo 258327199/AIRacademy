{
 "cells": [
  {
   "cell_type": "code",
   "execution_count": 1,
   "metadata": {},
   "outputs": [
    {
     "name": "stderr",
     "output_type": "stream",
     "text": [
      "Using TensorFlow backend.\n"
     ]
    }
   ],
   "source": [
    "import numpy as np\n",
    "from utils import *\n",
    "import cv2\n",
    "import time\n",
    "from keras.preprocessing import image\n",
    "import os"
   ]
  },
  {
   "cell_type": "code",
   "execution_count": 2,
   "metadata": {
    "collapsed": true
   },
   "outputs": [],
   "source": [
    "DATA = 'C:/ML_DATA/wheelai/kerakart/'\n",
    "center_path = DATA+'train/center/'\n",
    "left_path = DATA+'train/left/'\n",
    "right_path = DATA+'train/right/'\n",
    "#file_path = DATA+'training_data.npy'"
   ]
  },
  {
   "cell_type": "code",
   "execution_count": 3,
   "metadata": {},
   "outputs": [],
   "source": [
    "#if os.path.isfile(file_path):\n",
    "#    print('File exists, loading previous data!')\n",
    "#    training_data = list(np.load(file_path))\n",
    "#else:\n",
    "#    print('File does not exist, starting fresh!')\n",
    "#    training_data = []"
   ]
  },
  {
   "cell_type": "markdown",
   "metadata": {
    "collapsed": true
   },
   "source": [
    "while True:\n",
    "    img = grab_screen(region=(100, 550, 1100, 100))\n",
    "    img = cv2.cvtColor(img, cv2.COLOR_BGR2RGB)\n",
    "    img = cv2.resize(img,(224,224))\n",
    "    cv2.imshow('win', img)\n",
    "    if cv2.waitKey(25) & 0xFF == ord('q'):\n",
    "             cv2.destroyAllWindows()\n",
    "             break"
   ]
  },
  {
   "cell_type": "code",
   "execution_count": 4,
   "metadata": {
    "collapsed": true
   },
   "outputs": [],
   "source": [
    "def assign_data(keys,image,count):\n",
    "    '''\n",
    "    Convert keys to a ...multi-hot... array\n",
    "    [A,W,D] boolean values.\n",
    "    '''\n",
    "    output = [0,0,0]\n",
    "    \n",
    "    if 'A' in keys:\n",
    "        path = left_path+'left{}.jpg'.format(count)\n",
    "        cv2.imwrite(path, image)\n",
    "        \n",
    "        flip_image = cv2.flip(image,1)\n",
    "        flip_path = right_path+'right{}.jpg'.format(count)\n",
    "        cv2.imwrite(flip_path, flip_image)\n",
    "        \n",
    "        output = [0]\n",
    "    \n",
    "    elif 'D' in keys:\n",
    "        path = right_path+'right{}.jpg'.format(count)\n",
    "        cv2.imwrite(path, image)\n",
    "        \n",
    "        flip_image = cv2.flip(image,1)\n",
    "        flip_path = left_path+'left{}.jpg'.format(count)\n",
    "        cv2.imwrite(flip_path, flip_image)\n",
    "        \n",
    "        output = [2]\n",
    "    \n",
    "    else:\n",
    "        path = center_path+'center{}.jpg'.format(count)\n",
    "        cv2.imwrite(path, image)\n",
    "        output = [1]\n",
    "    \n",
    "    return output"
   ]
  },
  {
   "cell_type": "code",
   "execution_count": 7,
   "metadata": {
    "collapsed": true
   },
   "outputs": [],
   "source": [
    "def main():\n",
    "    count_down(10)\n",
    "    count = 0\n",
    "    paused = False\n",
    "    while(True):\n",
    "\n",
    "        if not paused:\n",
    "            count += 1\n",
    "            img = grab_screen(region=(100, 550, 1100, 100))\n",
    "            img = cv2.cvtColor(img, cv2.COLOR_BGR2RGB)\n",
    "            keys = key_check()\n",
    "            \n",
    "            output = assign_data(keys, img, count)\n",
    "            #training_data.append([image, output])\n",
    "            \n",
    "            if count % 1000 == 0:\n",
    "                print(count)\n",
    "                #np.save(file_path, training_data)\n",
    "\n",
    "        keys = key_check()\n",
    "        if 'T' in keys:\n",
    "            if paused:\n",
    "                paused = False\n",
    "                print('unpaused!')\n",
    "                time.sleep(1)\n",
    "            else:\n",
    "                print('Pausing!')\n",
    "                paused = True\n",
    "                time.sleep(1)\n"
   ]
  },
  {
   "cell_type": "code",
   "execution_count": null,
   "metadata": {},
   "outputs": [
    {
     "name": "stdout",
     "output_type": "stream",
     "text": [
      "10\n",
      "9\n",
      "8\n",
      "7\n",
      "6\n",
      "5\n",
      "4\n",
      "3\n",
      "2\n",
      "1\n",
      "Pausing!\n",
      "unpaused!\n",
      "1000\n",
      "2000\n",
      "3000\n",
      "4000\n",
      "5000\n",
      "6000\n",
      "7000\n",
      "8000\n",
      "9000\n",
      "10000\n",
      "11000\n",
      "12000\n",
      "13000\n",
      "14000\n",
      "15000\n",
      "Pausing!\n",
      "unpaused!\n",
      "16000\n",
      "Pausing!\n",
      "unpaused!\n",
      "17000\n",
      "18000\n",
      "19000\n",
      "20000\n",
      "Pausing!\n",
      "unpaused!\n",
      "21000\n",
      "22000\n",
      "23000\n",
      "24000\n",
      "25000\n",
      "26000\n",
      "27000\n",
      "28000\n",
      "29000\n",
      "30000\n",
      "31000\n",
      "32000\n",
      "33000\n",
      "34000\n",
      "Pausing!\n",
      "unpaused!\n",
      "35000\n",
      "Pausing!\n",
      "unpaused!\n",
      "36000\n",
      "Pausing!\n",
      "unpaused!\n",
      "37000\n",
      "38000\n",
      "39000\n"
     ]
    }
   ],
   "source": [
    "main()"
   ]
  },
  {
   "cell_type": "code",
   "execution_count": null,
   "metadata": {
    "collapsed": true
   },
   "outputs": [],
   "source": []
  }
 ],
 "metadata": {
  "anaconda-cloud": {},
  "kernelspec": {
   "display_name": "Python 3",
   "language": "python",
   "name": "python3"
  },
  "language_info": {
   "codemirror_mode": {
    "name": "ipython",
    "version": 3
   },
   "file_extension": ".py",
   "mimetype": "text/x-python",
   "name": "python",
   "nbconvert_exporter": "python",
   "pygments_lexer": "ipython3",
   "version": "3.5.2"
  },
  "widgets": {
   "state": {},
   "version": "1.1.2"
  }
 },
 "nbformat": 4,
 "nbformat_minor": 2
}
