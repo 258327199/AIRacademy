{
 "cells": [
  {
   "cell_type": "code",
   "execution_count": 1,
   "metadata": {},
   "outputs": [
    {
     "name": "stderr",
     "output_type": "stream",
     "text": [
      "Using TensorFlow backend.\n"
     ]
    }
   ],
   "source": [
    "from utils import *\n",
    "import cv2\n",
    "import time\n",
    "import numpy as np\n",
    "from keras.preprocessing import image\n",
    "import os\n",
    "import csv"
   ]
  },
  {
   "cell_type": "code",
   "execution_count": 2,
   "metadata": {
    "collapsed": true
   },
   "outputs": [],
   "source": [
    "DATA = 'D:/ML_DATA/wheelai/gtaV/'\n",
    "center_path = DATA+'train/center/'\n",
    "left_path = DATA+'train/left/'\n",
    "right_path = DATA+'train/right/'\n",
    "reverse_path = DATA+'train/reverse/'\n",
    "#leftcurve_path = DATA+'train/leftcurve/'\n",
    "#rightcurve_path = DATA+'train/rightcurve/'\n",
    "#leftreverse_path = DATA+'train/leftreverse/'\n",
    "#rightreverse_path = DATA+'train/rightreverse/'\n",
    "#noaction_path = DATA+'train/noaction/'\n",
    "csv_path = DATA+'train_data.csv'\n",
    "#file_path = DATA+'training_data.npy'"
   ]
  },
  {
   "cell_type": "code",
   "execution_count": null,
   "metadata": {
    "collapsed": true
   },
   "outputs": [],
   "source": [
    "#if os.path.isfile(file_path):\n",
    "#    print('File exists, loading previous data!')\n",
    "#    training_data = list(np.load(file_path))\n",
    "#else:\n",
    "#    print('File does not exist, starting fresh!')\n",
    "#    training_data = []"
   ]
  },
  {
   "cell_type": "markdown",
   "metadata": {
    "collapsed": true
   },
   "source": [
    "while True:\n",
    "    img = grab_screen(region=(0, 100, 1280, 640))\n",
    "    img = cv2.cvtColor(img, cv2.COLOR_BGR2RGB)\n",
    "    #img = cv2.resize(img,(224,224))\n",
    "    cv2.imshow('win', img)\n",
    "    if cv2.waitKey(25) & 0xFF == ord('q'):\n",
    "             cv2.destroyAllWindows()\n",
    "             break"
   ]
  },
  {
   "cell_type": "code",
   "execution_count": 5,
   "metadata": {},
   "outputs": [],
   "source": [
    "def assign_data(keys,image,count):\n",
    "    '''\n",
    "    \n",
    "    '''   \n",
    "    if 'A' in keys:\n",
    "        img_name = 'left{}.jpg'.format(count)\n",
    "        path = left_path+'left{}.jpg'.format(count)\n",
    "        cv2.imwrite(path, image)\n",
    "        \n",
    "        flip_image = cv2.flip(image,1)\n",
    "        flip_path = right_path+'right{}.jpg'.format(count)\n",
    "        cv2.imwrite(flip_path, flip_image)\n",
    "        \n",
    "        output = 1\n",
    "          \n",
    "    elif 'S' in keys:\n",
    "        img_name = 'reverse{}.jpg'.format(count)\n",
    "        path = reverse_path+'reverse{}.jpg'.format(count)\n",
    "        cv2.imwrite(path, image)\n",
    "        output = 2\n",
    "    \n",
    "    elif 'D' in keys:\n",
    "        img_name = 'right{}.jpg'.format(count)\n",
    "        path = right_path+'right{}.jpg'.format(count)\n",
    "        cv2.imwrite(path, image)\n",
    "        \n",
    "        flip_image = cv2.flip(image,1)\n",
    "        flip_path = left_path+'left{}.jpg'.format(count)\n",
    "        cv2.imwrite(flip_path, flip_image)\n",
    "        \n",
    "        output = 3\n",
    "    \n",
    "    else:\n",
    "        img_name = 'center{}.jpg'.format(count)\n",
    "        path = center_path+'center{}.jpg'.format(count)\n",
    "        cv2.imwrite(path, image)\n",
    "        output = 0\n",
    "    \n",
    "    \n",
    "    \n",
    "    \n",
    "    return img_name, output"
   ]
  },
  {
   "cell_type": "code",
   "execution_count": 6,
   "metadata": {
    "collapsed": true
   },
   "outputs": [],
   "source": [
    "def assign_detailed_data(keys,image,count):\n",
    "    '''\n",
    "    \n",
    "    '''   \n",
    "   \n",
    "        \n",
    "    if 'W' in keys:\n",
    "        img_name = 'center{}.jpg'.format(count)\n",
    "        path = center_path+'center{}.jpg'.format(count)\n",
    "        cv2.imwrite(path, image)\n",
    "        output = 0\n",
    "    \n",
    "    elif 'S' in keys:\n",
    "        img_name = 'reverse{}.jpg'.format(count)\n",
    "        path = reverse_path+'reverse{}.jpg'.format(count)\n",
    "        cv2.imwrite(path, image)\n",
    "        output = 5\n",
    "        \n",
    "    elif 'A' in keys:\n",
    "        img_name = 'left{}.jpg'.format(count)\n",
    "        path = left_path+'left{}.jpg'.format(count)\n",
    "        cv2.imwrite(path, image)\n",
    "        \n",
    "        flip_image = cv2.flip(image,1)\n",
    "        flip_path = right_path+'right{}.jpg'.format(count)\n",
    "        cv2.imwrite(flip_path, flip_image)\n",
    "        \n",
    "        output = 1\n",
    "    \n",
    "    elif 'D' in keys:\n",
    "        img_name = 'right{}.jpg'.format(count)\n",
    "        path = right_path+'right{}.jpg'.format(count)\n",
    "        cv2.imwrite(path, image)\n",
    "        \n",
    "        flip_image = cv2.flip(image,1)\n",
    "        flip_path = left_path+'left{}.jpg'.format(count)\n",
    "        cv2.imwrite(flip_path, flip_image)\n",
    "        \n",
    "        output = 6\n",
    "\n",
    "    elif 'D' in keys and 'W' in keys:\n",
    "        img_name = 'rightcurve{}.jpg'.format(count)\n",
    "        path = rightcurve_path+'rightcurve{}.jpg'.format(count)\n",
    "        cv2.imwrite(path, image)\n",
    "        \n",
    "        flip_image = cv2.flip(image,1)\n",
    "        flip_path = leftcurve_path+'leftcurve{}.jpg'.format(count)\n",
    "        cv2.imwrite(flip_path, flip_image)\n",
    "        \n",
    "        output = 7\n",
    "    \n",
    "    elif 'A' in keys and 'W' in keys:\n",
    "        img_name = 'leftcurve{}.jpg'.format(count)\n",
    "        path = leftcurve_path+'leftcurve{}.jpg'.format(count)\n",
    "        cv2.imwrite(path, image)\n",
    "        \n",
    "        flip_image = cv2.flip(image,1)\n",
    "        flip_path = rightcurve_path+'rightcurve{}.jpg'.format(count)\n",
    "        cv2.imwrite(flip_path, flip_image)\n",
    "        \n",
    "        output = 2\n",
    "        \n",
    "    elif 'D' in keys and 'S' in keys:\n",
    "        img_name = 'rightreverse{}.jpg'.format(count)\n",
    "        path = rightreverse_path+'rightreverse{}.jpg'.format(count)\n",
    "        cv2.imwrite(path, image)\n",
    "        \n",
    "        flip_image = cv2.flip(image,1)\n",
    "        flip_path = leftreverse_path+'leftreverse{}.jpg'.format(count)\n",
    "        cv2.imwrite(flip_path, flip_image)\n",
    "        \n",
    "        output = 8\n",
    "    \n",
    "    elif 'A' in keys and 'S' in keys:\n",
    "        img_name = 'leftreverse{}.jpg'.format(count)\n",
    "        path = leftreverse_path+'leftreverse{}.jpg'.format(count)\n",
    "        cv2.imwrite(path, image)\n",
    "        \n",
    "        flip_image = cv2.flip(image,1)\n",
    "        flip_path = rightreverse_path+'rightreverse{}.jpg'.format(count)\n",
    "        cv2.imwrite(flip_path, flip_image)\n",
    "        \n",
    "        output = 3\n",
    "    \n",
    "    else:\n",
    "        img_name = 'noaction{}.jpg'.format(count)\n",
    "        path = noaction_path+'noaction{}.jpg'.format(count)\n",
    "        cv2.imwrite(path, image)\n",
    "        output = 4\n",
    "    \n",
    "    \n",
    "    \n",
    "    return img_name, output"
   ]
  },
  {
   "cell_type": "code",
   "execution_count": 12,
   "metadata": {},
   "outputs": [],
   "source": [
    "def main():\n",
    "    count_down(10)\n",
    "    count = 13809\n",
    "    paused = False\n",
    "    csv_file = open(csv_path, \"w\", newline='')\n",
    "    writer = csv.writer(csv_file, delimiter=',')\n",
    "    while(True):\n",
    "\n",
    "        if not paused:\n",
    "            count += 1\n",
    "            \n",
    "            img = grab_screen(region=(0, 100, 1280, 640))\n",
    "            img = cv2.cvtColor(img, cv2.COLOR_BGR2RGB)\n",
    "            \n",
    "            keys = key_check()\n",
    "            \n",
    "            output = assign_data(keys, img, count)\n",
    "            writer.writerow([output[0],output[1]])\n",
    "            \n",
    "            if count % 1000 == 0:\n",
    "                print(count)\n",
    "\n",
    "        keys = key_check()\n",
    "        if 'T' in keys:\n",
    "            if paused:\n",
    "                paused = False\n",
    "                print('unpaused!')\n",
    "                time.sleep(1)\n",
    "            else:\n",
    "                print('Pausing!')\n",
    "                paused = True\n",
    "                time.sleep(1)\n",
    "    csv_file.close()"
   ]
  },
  {
   "cell_type": "code",
   "execution_count": null,
   "metadata": {},
   "outputs": [
    {
     "name": "stdout",
     "output_type": "stream",
     "text": [
      "10\n",
      "9\n",
      "8\n",
      "7\n",
      "6\n",
      "5\n",
      "4\n",
      "3\n",
      "2\n",
      "1\n",
      "14000\n",
      "Pausing!\n",
      "unpaused!\n",
      "Pausing!\n",
      "unpaused!\n",
      "Pausing!\n",
      "unpaused!\n",
      "15000\n",
      "Pausing!\n",
      "unpaused!\n",
      "Pausing!\n",
      "unpaused!\n",
      "Pausing!\n",
      "unpaused!\n",
      "Pausing!\n",
      "unpaused!\n",
      "16000\n",
      "Pausing!\n",
      "unpaused!\n",
      "Pausing!\n",
      "unpaused!\n",
      "17000\n",
      "Pausing!\n",
      "unpaused!\n",
      "Pausing!\n",
      "unpaused!\n",
      "Pausing!\n",
      "unpaused!\n",
      "18000\n",
      "Pausing!\n",
      "unpaused!\n",
      "Pausing!\n",
      "unpaused!\n",
      "Pausing!\n",
      "unpaused!\n",
      "19000\n",
      "Pausing!\n",
      "unpaused!\n",
      "20000\n",
      "Pausing!\n",
      "unpaused!\n",
      "Pausing!\n",
      "unpaused!\n",
      "Pausing!\n",
      "unpaused!\n",
      "Pausing!\n",
      "unpaused!\n",
      "Pausing!\n",
      "unpaused!\n",
      "Pausing!\n",
      "unpaused!\n",
      "Pausing!\n",
      "unpaused!\n",
      "Pausing!\n",
      "unpaused!\n",
      "Pausing!\n",
      "unpaused!\n",
      "21000\n",
      "Pausing!\n",
      "unpaused!\n",
      "Pausing!\n",
      "unpaused!\n",
      "Pausing!\n",
      "unpaused!\n",
      "Pausing!\n",
      "unpaused!\n",
      "22000\n",
      "Pausing!\n",
      "unpaused!\n",
      "Pausing!\n",
      "unpaused!\n",
      "Pausing!\n"
     ]
    }
   ],
   "source": [
    "main()"
   ]
  },
  {
   "cell_type": "code",
   "execution_count": null,
   "metadata": {
    "collapsed": true
   },
   "outputs": [],
   "source": []
  },
  {
   "cell_type": "code",
   "execution_count": null,
   "metadata": {
    "collapsed": true
   },
   "outputs": [],
   "source": []
  },
  {
   "cell_type": "code",
   "execution_count": null,
   "metadata": {
    "collapsed": true
   },
   "outputs": [],
   "source": []
  },
  {
   "cell_type": "code",
   "execution_count": null,
   "metadata": {
    "collapsed": true
   },
   "outputs": [],
   "source": []
  },
  {
   "cell_type": "code",
   "execution_count": null,
   "metadata": {
    "collapsed": true
   },
   "outputs": [],
   "source": []
  },
  {
   "cell_type": "code",
   "execution_count": null,
   "metadata": {
    "collapsed": true
   },
   "outputs": [],
   "source": []
  },
  {
   "cell_type": "code",
   "execution_count": null,
   "metadata": {
    "collapsed": true
   },
   "outputs": [],
   "source": []
  },
  {
   "cell_type": "code",
   "execution_count": null,
   "metadata": {
    "collapsed": true
   },
   "outputs": [],
   "source": []
  },
  {
   "cell_type": "code",
   "execution_count": null,
   "metadata": {
    "collapsed": true
   },
   "outputs": [],
   "source": []
  },
  {
   "cell_type": "code",
   "execution_count": null,
   "metadata": {
    "collapsed": true
   },
   "outputs": [],
   "source": []
  },
  {
   "cell_type": "code",
   "execution_count": null,
   "metadata": {
    "collapsed": true
   },
   "outputs": [],
   "source": []
  },
  {
   "cell_type": "code",
   "execution_count": null,
   "metadata": {
    "collapsed": true
   },
   "outputs": [],
   "source": []
  }
 ],
 "metadata": {
  "anaconda-cloud": {},
  "kernelspec": {
   "display_name": "Python 3",
   "language": "python",
   "name": "python3"
  },
  "language_info": {
   "codemirror_mode": {
    "name": "ipython",
    "version": 3
   },
   "file_extension": ".py",
   "mimetype": "text/x-python",
   "name": "python",
   "nbconvert_exporter": "python",
   "pygments_lexer": "ipython3",
   "version": "3.5.2"
  },
  "widgets": {
   "state": {},
   "version": "1.1.2"
  }
 },
 "nbformat": 4,
 "nbformat_minor": 2
}
