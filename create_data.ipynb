{
 "cells": [
  {
   "cell_type": "code",
   "execution_count": 1,
   "metadata": {
    "collapsed": true
   },
   "outputs": [],
   "source": [
    "import numpy as np\n",
    "from utils import *\n",
    "import cv2\n",
    "import time\n",
    "import os"
   ]
  },
  {
   "cell_type": "code",
   "execution_count": 2,
   "metadata": {
    "collapsed": true
   },
   "outputs": [],
   "source": [
    "DATA = 'D:/ai/git/wheelai/data/'\n",
    "center_path = DATA+'train/center/'\n",
    "left_path = DATA+'train/left/'\n",
    "right_path = DATA+'train/right/'\n",
    "file_path = DATA+'training_data.npy'"
   ]
  },
  {
   "cell_type": "code",
   "execution_count": 3,
   "metadata": {
    "collapsed": true
   },
   "outputs": [],
   "source": [
    "training_data=[]"
   ]
  },
  {
   "cell_type": "code",
   "execution_count": 1,
   "metadata": {
    "collapsed": false
   },
   "outputs": [],
   "source": [
    "#if os.path.isfile(file_path):\n",
    "#    print('File exists, loading previous data!')\n",
    "#    training_data = list(np.load(file_path))\n",
    "#else:\n",
    "#    print('File does not exist, starting fresh!')\n",
    "#    training_data = []"
   ]
  },
  {
   "cell_type": "code",
   "execution_count": null,
   "metadata": {
    "collapsed": true
   },
   "outputs": [],
   "source": [
    "#while True:\n",
    "#    image = grab_screen(region=(10, 450, 1500, 300))\n",
    "#    cv2.imshow('eub', image)\n",
    "#    if cv2.waitKey(25) & 0xFF == ord('q'):\n",
    "#            cv2.destroyAllWindows()\n",
    "#            break"
   ]
  },
  {
   "cell_type": "code",
   "execution_count": null,
   "metadata": {
    "collapsed": true
   },
   "outputs": [],
   "source": [
    "def assign_data(keys,image,count):\n",
    "    '''\n",
    "    Convert keys to a ...multi-hot... array\n",
    "    [A,W,D] boolean values.\n",
    "    '''\n",
    "    output = [0,0,0]\n",
    "    \n",
    "    if 'A' in keys:\n",
    "        path = left_path+'left{}.jpg'.format(count)\n",
    "        cv2.imwrite(path, image)\n",
    "        \n",
    "        flip_image = cv2.flip(image,1)\n",
    "        flip_path = right_path+'right{}.jpg'.format(count)\n",
    "        cv2.imwrite(flip_path, flip_image)\n",
    "        \n",
    "        output = [0]\n",
    "    \n",
    "    elif 'D' in keys:\n",
    "        path = right_path+'right{}.jpg'.format(count)\n",
    "        cv2.imwrite(path, image)\n",
    "        \n",
    "        flip_image = cv2.flip(image,1)\n",
    "        flip_path = left_path+'left{}.jpg'.format(count)\n",
    "        cv2.imwrite(flip_path, flip_image)\n",
    "        \n",
    "        output = [2]\n",
    "    \n",
    "    else:\n",
    "        path = center_path+'center{}.jpg'.format(count)\n",
    "        cv2.imwrite(path, image)\n",
    "        output = [1]\n",
    "    \n",
    "    return output"
   ]
  },
  {
   "cell_type": "code",
   "execution_count": null,
   "metadata": {
    "collapsed": true
   },
   "outputs": [],
   "source": [
    "def main():\n",
    "    count_down(10)\n",
    "    count = 0\n",
    "    paused = False\n",
    "    while(True):\n",
    "\n",
    "        if not paused:\n",
    "            count += 1\n",
    "            image = grab_screen(region=(10, 450, 1500, 300))\n",
    "            keys = key_check()\n",
    "            \n",
    "            output = assign_data(keys, image, count)\n",
    "            #training_data.append([image, output])\n",
    "            \n",
    "            if count % 1000 == 0:\n",
    "                print(count)\n",
    "                #np.save(file_path, training_data)\n",
    "\n",
    "        keys = key_check()\n",
    "        if 'T' in keys:\n",
    "            if paused:\n",
    "                paused = False\n",
    "                print('unpaused!')\n",
    "                time.sleep(1)\n",
    "            else:\n",
    "                print('Pausing!')\n",
    "                paused = True\n",
    "                time.sleep(1)\n"
   ]
  },
  {
   "cell_type": "code",
   "execution_count": null,
   "metadata": {
    "collapsed": true
   },
   "outputs": [],
   "source": [
    "main()"
   ]
  },
  {
   "cell_type": "code",
   "execution_count": null,
   "metadata": {
    "collapsed": true
   },
   "outputs": [],
   "source": []
  }
 ],
 "metadata": {
  "anaconda-cloud": {},
  "kernelspec": {
   "display_name": "Python [conda env:wheelai]",
   "language": "python",
   "name": "conda-env-wheelai-py"
  },
  "language_info": {
   "codemirror_mode": {
    "name": "ipython",
    "version": 3
   },
   "file_extension": ".py",
   "mimetype": "text/x-python",
   "name": "python",
   "nbconvert_exporter": "python",
   "pygments_lexer": "ipython3",
   "version": "3.5.2"
  }
 },
 "nbformat": 4,
 "nbformat_minor": 2
}
